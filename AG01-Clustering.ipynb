{
 "cells": [
  {
   "cell_type": "markdown",
   "metadata": {},
   "source": [
    "## Actividad Guiada 1 (Extr): DengAI. Predicting Disease Spread - Exploración\n",
    "### __Nombre:__ Daniel Portugal Revilla\n",
    "\n",
    "__Objetivo:__ Utilizar técnicas de aprendizaje no supervisado para realizar una exploración preliminar de los datos y extraer conclusiones a partir de elementos descartables, etc.\n",
    "\n",
    "__Técnica a utilizar:__ Técnicas de aprendizaje no supervisado de las vistas en la asignatura.\n",
    "\n",
    "__Tecnología:__ Libre"
   ]
  },
  {
   "cell_type": "markdown",
   "metadata": {},
   "source": [
    "__Tecnología:__ Para el reto de DengAI se escogió trabajar con Python y sus diversas librerias como:\n",
    "- Numpy\n",
    "- pylab\n",
    "- pandas\n",
    "- sklearn\n",
    "\n",
    "Al tener un backgroud de informático, la comodidad y familiaridad de trabajar con python es nativa, así como la ventaja de sus diversas librerías, el poder trabajar en diferentes entornos y plataformas, poder migrar a frameworks como Pyspark con facilidad, etc"
   ]
  },
  {
   "cell_type": "markdown",
   "metadata": {},
   "source": [
    "### Introducción y definición del problema \n",
    "Usando los datos ambientales de las ciudades de San Juan e Iquitos para predecir el número de casos de fiebre del dengue en un lapso de tiempo determinado. Como los mosquitos prosperan en el calor y la humedad climáticos, los países con estas características deberían tener más casos de dengue. El aumento de las precipitaciones también debería contribuir al aumento de los mosquitos y, por lo tanto casos de fiebre del dengue. Con una gran cantidad de datos climáticos y otros factores\n"
   ]
  },
  {
   "cell_type": "code",
   "execution_count": 1,
   "metadata": {},
   "outputs": [],
   "source": [
    "#importamos las librerias a utilizar para la exploración y clustering \n",
    "\n",
    "import matplotlib.pyplot as plt\n",
    "import numpy as np\n",
    "import itertools\n",
    "import seaborn as sns\n",
    "from numpy import corrcoef, transpose, arange\n",
    "from pylab import pcolor, show, colorbar, xticks, yticks\n",
    "import pandas as pd"
   ]
  },
  {
   "cell_type": "markdown",
   "metadata": {},
   "source": [
    "Cargamos el data ser con las características del dengue. creamos un índice compuesto por __city, year,weekofyear__"
   ]
  },
  {
   "cell_type": "code",
   "execution_count": 2,
   "metadata": {},
   "outputs": [],
   "source": [
    "df = pd.read_csv('./Data/dengue_features_train.csv', encoding='utf-8',index_col=['city', 'year', 'weekofyear'])\n"
   ]
  },
  {
   "cell_type": "code",
   "execution_count": 3,
   "metadata": {},
   "outputs": [
    {
     "data": {
      "text/html": [
       "<div>\n",
       "<style scoped>\n",
       "    .dataframe tbody tr th:only-of-type {\n",
       "        vertical-align: middle;\n",
       "    }\n",
       "\n",
       "    .dataframe tbody tr th {\n",
       "        vertical-align: top;\n",
       "    }\n",
       "\n",
       "    .dataframe thead th {\n",
       "        text-align: right;\n",
       "    }\n",
       "</style>\n",
       "<table border=\"1\" class=\"dataframe\">\n",
       "  <thead>\n",
       "    <tr style=\"text-align: right;\">\n",
       "      <th></th>\n",
       "      <th></th>\n",
       "      <th></th>\n",
       "      <th>week_start_date</th>\n",
       "      <th>ndvi_ne</th>\n",
       "      <th>ndvi_nw</th>\n",
       "      <th>ndvi_se</th>\n",
       "      <th>ndvi_sw</th>\n",
       "      <th>precipitation_amt_mm</th>\n",
       "      <th>reanalysis_air_temp_k</th>\n",
       "      <th>reanalysis_avg_temp_k</th>\n",
       "      <th>reanalysis_dew_point_temp_k</th>\n",
       "      <th>reanalysis_max_air_temp_k</th>\n",
       "      <th>...</th>\n",
       "      <th>reanalysis_precip_amt_kg_per_m2</th>\n",
       "      <th>reanalysis_relative_humidity_percent</th>\n",
       "      <th>reanalysis_sat_precip_amt_mm</th>\n",
       "      <th>reanalysis_specific_humidity_g_per_kg</th>\n",
       "      <th>reanalysis_tdtr_k</th>\n",
       "      <th>station_avg_temp_c</th>\n",
       "      <th>station_diur_temp_rng_c</th>\n",
       "      <th>station_max_temp_c</th>\n",
       "      <th>station_min_temp_c</th>\n",
       "      <th>station_precip_mm</th>\n",
       "    </tr>\n",
       "    <tr>\n",
       "      <th>city</th>\n",
       "      <th>year</th>\n",
       "      <th>weekofyear</th>\n",
       "      <th></th>\n",
       "      <th></th>\n",
       "      <th></th>\n",
       "      <th></th>\n",
       "      <th></th>\n",
       "      <th></th>\n",
       "      <th></th>\n",
       "      <th></th>\n",
       "      <th></th>\n",
       "      <th></th>\n",
       "      <th></th>\n",
       "      <th></th>\n",
       "      <th></th>\n",
       "      <th></th>\n",
       "      <th></th>\n",
       "      <th></th>\n",
       "      <th></th>\n",
       "      <th></th>\n",
       "      <th></th>\n",
       "      <th></th>\n",
       "      <th></th>\n",
       "    </tr>\n",
       "  </thead>\n",
       "  <tbody>\n",
       "    <tr>\n",
       "      <th rowspan=\"5\" valign=\"top\">sj</th>\n",
       "      <th rowspan=\"5\" valign=\"top\">1990</th>\n",
       "      <th>18</th>\n",
       "      <td>1990-04-30</td>\n",
       "      <td>0.122600</td>\n",
       "      <td>0.103725</td>\n",
       "      <td>0.198483</td>\n",
       "      <td>0.177617</td>\n",
       "      <td>12.42</td>\n",
       "      <td>297.572857</td>\n",
       "      <td>297.742857</td>\n",
       "      <td>292.414286</td>\n",
       "      <td>299.8</td>\n",
       "      <td>...</td>\n",
       "      <td>32.00</td>\n",
       "      <td>73.365714</td>\n",
       "      <td>12.42</td>\n",
       "      <td>14.012857</td>\n",
       "      <td>2.628571</td>\n",
       "      <td>25.442857</td>\n",
       "      <td>6.900000</td>\n",
       "      <td>29.4</td>\n",
       "      <td>20.0</td>\n",
       "      <td>16.0</td>\n",
       "    </tr>\n",
       "    <tr>\n",
       "      <th>19</th>\n",
       "      <td>1990-05-07</td>\n",
       "      <td>0.169900</td>\n",
       "      <td>0.142175</td>\n",
       "      <td>0.162357</td>\n",
       "      <td>0.155486</td>\n",
       "      <td>22.82</td>\n",
       "      <td>298.211429</td>\n",
       "      <td>298.442857</td>\n",
       "      <td>293.951429</td>\n",
       "      <td>300.9</td>\n",
       "      <td>...</td>\n",
       "      <td>17.94</td>\n",
       "      <td>77.368571</td>\n",
       "      <td>22.82</td>\n",
       "      <td>15.372857</td>\n",
       "      <td>2.371429</td>\n",
       "      <td>26.714286</td>\n",
       "      <td>6.371429</td>\n",
       "      <td>31.7</td>\n",
       "      <td>22.2</td>\n",
       "      <td>8.6</td>\n",
       "    </tr>\n",
       "    <tr>\n",
       "      <th>20</th>\n",
       "      <td>1990-05-14</td>\n",
       "      <td>0.032250</td>\n",
       "      <td>0.172967</td>\n",
       "      <td>0.157200</td>\n",
       "      <td>0.170843</td>\n",
       "      <td>34.54</td>\n",
       "      <td>298.781429</td>\n",
       "      <td>298.878571</td>\n",
       "      <td>295.434286</td>\n",
       "      <td>300.5</td>\n",
       "      <td>...</td>\n",
       "      <td>26.10</td>\n",
       "      <td>82.052857</td>\n",
       "      <td>34.54</td>\n",
       "      <td>16.848571</td>\n",
       "      <td>2.300000</td>\n",
       "      <td>26.714286</td>\n",
       "      <td>6.485714</td>\n",
       "      <td>32.2</td>\n",
       "      <td>22.8</td>\n",
       "      <td>41.4</td>\n",
       "    </tr>\n",
       "    <tr>\n",
       "      <th>21</th>\n",
       "      <td>1990-05-21</td>\n",
       "      <td>0.128633</td>\n",
       "      <td>0.245067</td>\n",
       "      <td>0.227557</td>\n",
       "      <td>0.235886</td>\n",
       "      <td>15.36</td>\n",
       "      <td>298.987143</td>\n",
       "      <td>299.228571</td>\n",
       "      <td>295.310000</td>\n",
       "      <td>301.4</td>\n",
       "      <td>...</td>\n",
       "      <td>13.90</td>\n",
       "      <td>80.337143</td>\n",
       "      <td>15.36</td>\n",
       "      <td>16.672857</td>\n",
       "      <td>2.428571</td>\n",
       "      <td>27.471429</td>\n",
       "      <td>6.771429</td>\n",
       "      <td>33.3</td>\n",
       "      <td>23.3</td>\n",
       "      <td>4.0</td>\n",
       "    </tr>\n",
       "    <tr>\n",
       "      <th>22</th>\n",
       "      <td>1990-05-28</td>\n",
       "      <td>0.196200</td>\n",
       "      <td>0.262200</td>\n",
       "      <td>0.251200</td>\n",
       "      <td>0.247340</td>\n",
       "      <td>7.52</td>\n",
       "      <td>299.518571</td>\n",
       "      <td>299.664286</td>\n",
       "      <td>295.821429</td>\n",
       "      <td>301.9</td>\n",
       "      <td>...</td>\n",
       "      <td>12.20</td>\n",
       "      <td>80.460000</td>\n",
       "      <td>7.52</td>\n",
       "      <td>17.210000</td>\n",
       "      <td>3.014286</td>\n",
       "      <td>28.942857</td>\n",
       "      <td>9.371429</td>\n",
       "      <td>35.0</td>\n",
       "      <td>23.9</td>\n",
       "      <td>5.8</td>\n",
       "    </tr>\n",
       "  </tbody>\n",
       "</table>\n",
       "<p>5 rows × 21 columns</p>\n",
       "</div>"
      ],
      "text/plain": [
       "                     week_start_date   ndvi_ne   ndvi_nw   ndvi_se   ndvi_sw  \\\n",
       "city year weekofyear                                                           \n",
       "sj   1990 18              1990-04-30  0.122600  0.103725  0.198483  0.177617   \n",
       "          19              1990-05-07  0.169900  0.142175  0.162357  0.155486   \n",
       "          20              1990-05-14  0.032250  0.172967  0.157200  0.170843   \n",
       "          21              1990-05-21  0.128633  0.245067  0.227557  0.235886   \n",
       "          22              1990-05-28  0.196200  0.262200  0.251200  0.247340   \n",
       "\n",
       "                      precipitation_amt_mm  reanalysis_air_temp_k  \\\n",
       "city year weekofyear                                                \n",
       "sj   1990 18                         12.42             297.572857   \n",
       "          19                         22.82             298.211429   \n",
       "          20                         34.54             298.781429   \n",
       "          21                         15.36             298.987143   \n",
       "          22                          7.52             299.518571   \n",
       "\n",
       "                      reanalysis_avg_temp_k  reanalysis_dew_point_temp_k  \\\n",
       "city year weekofyear                                                       \n",
       "sj   1990 18                     297.742857                   292.414286   \n",
       "          19                     298.442857                   293.951429   \n",
       "          20                     298.878571                   295.434286   \n",
       "          21                     299.228571                   295.310000   \n",
       "          22                     299.664286                   295.821429   \n",
       "\n",
       "                      reanalysis_max_air_temp_k  ...  \\\n",
       "city year weekofyear                             ...   \n",
       "sj   1990 18                              299.8  ...   \n",
       "          19                              300.9  ...   \n",
       "          20                              300.5  ...   \n",
       "          21                              301.4  ...   \n",
       "          22                              301.9  ...   \n",
       "\n",
       "                      reanalysis_precip_amt_kg_per_m2  \\\n",
       "city year weekofyear                                    \n",
       "sj   1990 18                                    32.00   \n",
       "          19                                    17.94   \n",
       "          20                                    26.10   \n",
       "          21                                    13.90   \n",
       "          22                                    12.20   \n",
       "\n",
       "                      reanalysis_relative_humidity_percent  \\\n",
       "city year weekofyear                                         \n",
       "sj   1990 18                                     73.365714   \n",
       "          19                                     77.368571   \n",
       "          20                                     82.052857   \n",
       "          21                                     80.337143   \n",
       "          22                                     80.460000   \n",
       "\n",
       "                      reanalysis_sat_precip_amt_mm  \\\n",
       "city year weekofyear                                 \n",
       "sj   1990 18                                 12.42   \n",
       "          19                                 22.82   \n",
       "          20                                 34.54   \n",
       "          21                                 15.36   \n",
       "          22                                  7.52   \n",
       "\n",
       "                      reanalysis_specific_humidity_g_per_kg  \\\n",
       "city year weekofyear                                          \n",
       "sj   1990 18                                      14.012857   \n",
       "          19                                      15.372857   \n",
       "          20                                      16.848571   \n",
       "          21                                      16.672857   \n",
       "          22                                      17.210000   \n",
       "\n",
       "                      reanalysis_tdtr_k  station_avg_temp_c  \\\n",
       "city year weekofyear                                          \n",
       "sj   1990 18                   2.628571           25.442857   \n",
       "          19                   2.371429           26.714286   \n",
       "          20                   2.300000           26.714286   \n",
       "          21                   2.428571           27.471429   \n",
       "          22                   3.014286           28.942857   \n",
       "\n",
       "                      station_diur_temp_rng_c  station_max_temp_c  \\\n",
       "city year weekofyear                                                \n",
       "sj   1990 18                         6.900000                29.4   \n",
       "          19                         6.371429                31.7   \n",
       "          20                         6.485714                32.2   \n",
       "          21                         6.771429                33.3   \n",
       "          22                         9.371429                35.0   \n",
       "\n",
       "                      station_min_temp_c  station_precip_mm  \n",
       "city year weekofyear                                         \n",
       "sj   1990 18                        20.0               16.0  \n",
       "          19                        22.2                8.6  \n",
       "          20                        22.8               41.4  \n",
       "          21                        23.3                4.0  \n",
       "          22                        23.9                5.8  \n",
       "\n",
       "[5 rows x 21 columns]"
      ]
     },
     "execution_count": 3,
     "metadata": {},
     "output_type": "execute_result"
    }
   ],
   "source": [
    "df.head()"
   ]
  },
  {
   "cell_type": "markdown",
   "metadata": {},
   "source": [
    "Las estadísticas descriptivas incluyen aquellas que resumen la tendencia central, la dispersión y la forma de la distribución de un conjunto de datos"
   ]
  },
  {
   "cell_type": "code",
   "execution_count": 4,
   "metadata": {},
   "outputs": [
    {
     "data": {
      "text/html": [
       "<div>\n",
       "<style scoped>\n",
       "    .dataframe tbody tr th:only-of-type {\n",
       "        vertical-align: middle;\n",
       "    }\n",
       "\n",
       "    .dataframe tbody tr th {\n",
       "        vertical-align: top;\n",
       "    }\n",
       "\n",
       "    .dataframe thead th {\n",
       "        text-align: right;\n",
       "    }\n",
       "</style>\n",
       "<table border=\"1\" class=\"dataframe\">\n",
       "  <thead>\n",
       "    <tr style=\"text-align: right;\">\n",
       "      <th></th>\n",
       "      <th>count</th>\n",
       "      <th>mean</th>\n",
       "      <th>std</th>\n",
       "      <th>min</th>\n",
       "      <th>25%</th>\n",
       "      <th>50%</th>\n",
       "      <th>75%</th>\n",
       "      <th>max</th>\n",
       "    </tr>\n",
       "  </thead>\n",
       "  <tbody>\n",
       "    <tr>\n",
       "      <th>ndvi_ne</th>\n",
       "      <td>1262.0</td>\n",
       "      <td>0.142294</td>\n",
       "      <td>0.140531</td>\n",
       "      <td>-0.406250</td>\n",
       "      <td>0.044950</td>\n",
       "      <td>0.128817</td>\n",
       "      <td>0.248483</td>\n",
       "      <td>0.508357</td>\n",
       "    </tr>\n",
       "    <tr>\n",
       "      <th>ndvi_nw</th>\n",
       "      <td>1404.0</td>\n",
       "      <td>0.130553</td>\n",
       "      <td>0.119999</td>\n",
       "      <td>-0.456100</td>\n",
       "      <td>0.049217</td>\n",
       "      <td>0.121429</td>\n",
       "      <td>0.216600</td>\n",
       "      <td>0.454429</td>\n",
       "    </tr>\n",
       "    <tr>\n",
       "      <th>ndvi_se</th>\n",
       "      <td>1434.0</td>\n",
       "      <td>0.203783</td>\n",
       "      <td>0.073860</td>\n",
       "      <td>-0.015533</td>\n",
       "      <td>0.155087</td>\n",
       "      <td>0.196050</td>\n",
       "      <td>0.248846</td>\n",
       "      <td>0.538314</td>\n",
       "    </tr>\n",
       "    <tr>\n",
       "      <th>ndvi_sw</th>\n",
       "      <td>1434.0</td>\n",
       "      <td>0.202305</td>\n",
       "      <td>0.083903</td>\n",
       "      <td>-0.063457</td>\n",
       "      <td>0.144209</td>\n",
       "      <td>0.189450</td>\n",
       "      <td>0.246982</td>\n",
       "      <td>0.546017</td>\n",
       "    </tr>\n",
       "    <tr>\n",
       "      <th>precipitation_amt_mm</th>\n",
       "      <td>1443.0</td>\n",
       "      <td>45.760388</td>\n",
       "      <td>43.715537</td>\n",
       "      <td>0.000000</td>\n",
       "      <td>9.800000</td>\n",
       "      <td>38.340000</td>\n",
       "      <td>70.235000</td>\n",
       "      <td>390.600000</td>\n",
       "    </tr>\n",
       "    <tr>\n",
       "      <th>reanalysis_air_temp_k</th>\n",
       "      <td>1446.0</td>\n",
       "      <td>298.701852</td>\n",
       "      <td>1.362420</td>\n",
       "      <td>294.635714</td>\n",
       "      <td>297.658929</td>\n",
       "      <td>298.646429</td>\n",
       "      <td>299.833571</td>\n",
       "      <td>302.200000</td>\n",
       "    </tr>\n",
       "    <tr>\n",
       "      <th>reanalysis_avg_temp_k</th>\n",
       "      <td>1446.0</td>\n",
       "      <td>299.225578</td>\n",
       "      <td>1.261715</td>\n",
       "      <td>294.892857</td>\n",
       "      <td>298.257143</td>\n",
       "      <td>299.289286</td>\n",
       "      <td>300.207143</td>\n",
       "      <td>302.928571</td>\n",
       "    </tr>\n",
       "    <tr>\n",
       "      <th>reanalysis_dew_point_temp_k</th>\n",
       "      <td>1446.0</td>\n",
       "      <td>295.246356</td>\n",
       "      <td>1.527810</td>\n",
       "      <td>289.642857</td>\n",
       "      <td>294.118929</td>\n",
       "      <td>295.640714</td>\n",
       "      <td>296.460000</td>\n",
       "      <td>298.450000</td>\n",
       "    </tr>\n",
       "    <tr>\n",
       "      <th>reanalysis_max_air_temp_k</th>\n",
       "      <td>1446.0</td>\n",
       "      <td>303.427109</td>\n",
       "      <td>3.234601</td>\n",
       "      <td>297.800000</td>\n",
       "      <td>301.000000</td>\n",
       "      <td>302.400000</td>\n",
       "      <td>305.500000</td>\n",
       "      <td>314.000000</td>\n",
       "    </tr>\n",
       "    <tr>\n",
       "      <th>reanalysis_min_air_temp_k</th>\n",
       "      <td>1446.0</td>\n",
       "      <td>295.719156</td>\n",
       "      <td>2.565364</td>\n",
       "      <td>286.900000</td>\n",
       "      <td>293.900000</td>\n",
       "      <td>296.200000</td>\n",
       "      <td>297.900000</td>\n",
       "      <td>299.900000</td>\n",
       "    </tr>\n",
       "    <tr>\n",
       "      <th>reanalysis_precip_amt_kg_per_m2</th>\n",
       "      <td>1446.0</td>\n",
       "      <td>40.151819</td>\n",
       "      <td>43.434399</td>\n",
       "      <td>0.000000</td>\n",
       "      <td>13.055000</td>\n",
       "      <td>27.245000</td>\n",
       "      <td>52.200000</td>\n",
       "      <td>570.500000</td>\n",
       "    </tr>\n",
       "    <tr>\n",
       "      <th>reanalysis_relative_humidity_percent</th>\n",
       "      <td>1446.0</td>\n",
       "      <td>82.161959</td>\n",
       "      <td>7.153897</td>\n",
       "      <td>57.787143</td>\n",
       "      <td>77.177143</td>\n",
       "      <td>80.301429</td>\n",
       "      <td>86.357857</td>\n",
       "      <td>98.610000</td>\n",
       "    </tr>\n",
       "    <tr>\n",
       "      <th>reanalysis_sat_precip_amt_mm</th>\n",
       "      <td>1443.0</td>\n",
       "      <td>45.760388</td>\n",
       "      <td>43.715537</td>\n",
       "      <td>0.000000</td>\n",
       "      <td>9.800000</td>\n",
       "      <td>38.340000</td>\n",
       "      <td>70.235000</td>\n",
       "      <td>390.600000</td>\n",
       "    </tr>\n",
       "    <tr>\n",
       "      <th>reanalysis_specific_humidity_g_per_kg</th>\n",
       "      <td>1446.0</td>\n",
       "      <td>16.746427</td>\n",
       "      <td>1.542494</td>\n",
       "      <td>11.715714</td>\n",
       "      <td>15.557143</td>\n",
       "      <td>17.087143</td>\n",
       "      <td>17.978214</td>\n",
       "      <td>20.461429</td>\n",
       "    </tr>\n",
       "    <tr>\n",
       "      <th>reanalysis_tdtr_k</th>\n",
       "      <td>1446.0</td>\n",
       "      <td>4.903754</td>\n",
       "      <td>3.546445</td>\n",
       "      <td>1.357143</td>\n",
       "      <td>2.328571</td>\n",
       "      <td>2.857143</td>\n",
       "      <td>7.625000</td>\n",
       "      <td>16.028571</td>\n",
       "    </tr>\n",
       "    <tr>\n",
       "      <th>station_avg_temp_c</th>\n",
       "      <td>1413.0</td>\n",
       "      <td>27.185783</td>\n",
       "      <td>1.292347</td>\n",
       "      <td>21.400000</td>\n",
       "      <td>26.300000</td>\n",
       "      <td>27.414286</td>\n",
       "      <td>28.157143</td>\n",
       "      <td>30.800000</td>\n",
       "    </tr>\n",
       "    <tr>\n",
       "      <th>station_diur_temp_rng_c</th>\n",
       "      <td>1413.0</td>\n",
       "      <td>8.059328</td>\n",
       "      <td>2.128568</td>\n",
       "      <td>4.528571</td>\n",
       "      <td>6.514286</td>\n",
       "      <td>7.300000</td>\n",
       "      <td>9.566667</td>\n",
       "      <td>15.800000</td>\n",
       "    </tr>\n",
       "    <tr>\n",
       "      <th>station_max_temp_c</th>\n",
       "      <td>1436.0</td>\n",
       "      <td>32.452437</td>\n",
       "      <td>1.959318</td>\n",
       "      <td>26.700000</td>\n",
       "      <td>31.100000</td>\n",
       "      <td>32.800000</td>\n",
       "      <td>33.900000</td>\n",
       "      <td>42.200000</td>\n",
       "    </tr>\n",
       "    <tr>\n",
       "      <th>station_min_temp_c</th>\n",
       "      <td>1442.0</td>\n",
       "      <td>22.102150</td>\n",
       "      <td>1.574066</td>\n",
       "      <td>14.700000</td>\n",
       "      <td>21.100000</td>\n",
       "      <td>22.200000</td>\n",
       "      <td>23.300000</td>\n",
       "      <td>25.600000</td>\n",
       "    </tr>\n",
       "    <tr>\n",
       "      <th>station_precip_mm</th>\n",
       "      <td>1434.0</td>\n",
       "      <td>39.326360</td>\n",
       "      <td>47.455314</td>\n",
       "      <td>0.000000</td>\n",
       "      <td>8.700000</td>\n",
       "      <td>23.850000</td>\n",
       "      <td>53.900000</td>\n",
       "      <td>543.300000</td>\n",
       "    </tr>\n",
       "  </tbody>\n",
       "</table>\n",
       "</div>"
      ],
      "text/plain": [
       "                                        count        mean        std  \\\n",
       "ndvi_ne                                1262.0    0.142294   0.140531   \n",
       "ndvi_nw                                1404.0    0.130553   0.119999   \n",
       "ndvi_se                                1434.0    0.203783   0.073860   \n",
       "ndvi_sw                                1434.0    0.202305   0.083903   \n",
       "precipitation_amt_mm                   1443.0   45.760388  43.715537   \n",
       "reanalysis_air_temp_k                  1446.0  298.701852   1.362420   \n",
       "reanalysis_avg_temp_k                  1446.0  299.225578   1.261715   \n",
       "reanalysis_dew_point_temp_k            1446.0  295.246356   1.527810   \n",
       "reanalysis_max_air_temp_k              1446.0  303.427109   3.234601   \n",
       "reanalysis_min_air_temp_k              1446.0  295.719156   2.565364   \n",
       "reanalysis_precip_amt_kg_per_m2        1446.0   40.151819  43.434399   \n",
       "reanalysis_relative_humidity_percent   1446.0   82.161959   7.153897   \n",
       "reanalysis_sat_precip_amt_mm           1443.0   45.760388  43.715537   \n",
       "reanalysis_specific_humidity_g_per_kg  1446.0   16.746427   1.542494   \n",
       "reanalysis_tdtr_k                      1446.0    4.903754   3.546445   \n",
       "station_avg_temp_c                     1413.0   27.185783   1.292347   \n",
       "station_diur_temp_rng_c                1413.0    8.059328   2.128568   \n",
       "station_max_temp_c                     1436.0   32.452437   1.959318   \n",
       "station_min_temp_c                     1442.0   22.102150   1.574066   \n",
       "station_precip_mm                      1434.0   39.326360  47.455314   \n",
       "\n",
       "                                              min         25%         50%  \\\n",
       "ndvi_ne                                 -0.406250    0.044950    0.128817   \n",
       "ndvi_nw                                 -0.456100    0.049217    0.121429   \n",
       "ndvi_se                                 -0.015533    0.155087    0.196050   \n",
       "ndvi_sw                                 -0.063457    0.144209    0.189450   \n",
       "precipitation_amt_mm                     0.000000    9.800000   38.340000   \n",
       "reanalysis_air_temp_k                  294.635714  297.658929  298.646429   \n",
       "reanalysis_avg_temp_k                  294.892857  298.257143  299.289286   \n",
       "reanalysis_dew_point_temp_k            289.642857  294.118929  295.640714   \n",
       "reanalysis_max_air_temp_k              297.800000  301.000000  302.400000   \n",
       "reanalysis_min_air_temp_k              286.900000  293.900000  296.200000   \n",
       "reanalysis_precip_amt_kg_per_m2          0.000000   13.055000   27.245000   \n",
       "reanalysis_relative_humidity_percent    57.787143   77.177143   80.301429   \n",
       "reanalysis_sat_precip_amt_mm             0.000000    9.800000   38.340000   \n",
       "reanalysis_specific_humidity_g_per_kg   11.715714   15.557143   17.087143   \n",
       "reanalysis_tdtr_k                        1.357143    2.328571    2.857143   \n",
       "station_avg_temp_c                      21.400000   26.300000   27.414286   \n",
       "station_diur_temp_rng_c                  4.528571    6.514286    7.300000   \n",
       "station_max_temp_c                      26.700000   31.100000   32.800000   \n",
       "station_min_temp_c                      14.700000   21.100000   22.200000   \n",
       "station_precip_mm                        0.000000    8.700000   23.850000   \n",
       "\n",
       "                                              75%         max  \n",
       "ndvi_ne                                  0.248483    0.508357  \n",
       "ndvi_nw                                  0.216600    0.454429  \n",
       "ndvi_se                                  0.248846    0.538314  \n",
       "ndvi_sw                                  0.246982    0.546017  \n",
       "precipitation_amt_mm                    70.235000  390.600000  \n",
       "reanalysis_air_temp_k                  299.833571  302.200000  \n",
       "reanalysis_avg_temp_k                  300.207143  302.928571  \n",
       "reanalysis_dew_point_temp_k            296.460000  298.450000  \n",
       "reanalysis_max_air_temp_k              305.500000  314.000000  \n",
       "reanalysis_min_air_temp_k              297.900000  299.900000  \n",
       "reanalysis_precip_amt_kg_per_m2         52.200000  570.500000  \n",
       "reanalysis_relative_humidity_percent    86.357857   98.610000  \n",
       "reanalysis_sat_precip_amt_mm            70.235000  390.600000  \n",
       "reanalysis_specific_humidity_g_per_kg   17.978214   20.461429  \n",
       "reanalysis_tdtr_k                        7.625000   16.028571  \n",
       "station_avg_temp_c                      28.157143   30.800000  \n",
       "station_diur_temp_rng_c                  9.566667   15.800000  \n",
       "station_max_temp_c                      33.900000   42.200000  \n",
       "station_min_temp_c                      23.300000   25.600000  \n",
       "station_precip_mm                       53.900000  543.300000  "
      ]
     },
     "execution_count": 4,
     "metadata": {},
     "output_type": "execute_result"
    }
   ],
   "source": [
    "df.describe().transpose()"
   ]
  },
  {
   "cell_type": "markdown",
   "metadata": {},
   "source": [
    "transponemos el DataFrame para poder trabajar con las características. eliminamos el campo __'week_start_date'__ para realizar el análisis de las variables numéricas"
   ]
  },
  {
   "cell_type": "code",
   "execution_count": 5,
   "metadata": {},
   "outputs": [
    {
     "data": {
      "text/html": [
       "<div>\n",
       "<style scoped>\n",
       "    .dataframe tbody tr th:only-of-type {\n",
       "        vertical-align: middle;\n",
       "    }\n",
       "\n",
       "    .dataframe tbody tr th {\n",
       "        vertical-align: top;\n",
       "    }\n",
       "\n",
       "    .dataframe thead tr th {\n",
       "        text-align: left;\n",
       "    }\n",
       "</style>\n",
       "<table border=\"1\" class=\"dataframe\">\n",
       "  <thead>\n",
       "    <tr>\n",
       "      <th>city</th>\n",
       "      <th colspan=\"10\" halign=\"left\">sj</th>\n",
       "      <th>...</th>\n",
       "      <th colspan=\"10\" halign=\"left\">iq</th>\n",
       "    </tr>\n",
       "    <tr>\n",
       "      <th>year</th>\n",
       "      <th colspan=\"10\" halign=\"left\">1990</th>\n",
       "      <th>...</th>\n",
       "      <th colspan=\"10\" halign=\"left\">2010</th>\n",
       "    </tr>\n",
       "    <tr>\n",
       "      <th>weekofyear</th>\n",
       "      <th>18</th>\n",
       "      <th>19</th>\n",
       "      <th>20</th>\n",
       "      <th>21</th>\n",
       "      <th>22</th>\n",
       "      <th>23</th>\n",
       "      <th>24</th>\n",
       "      <th>25</th>\n",
       "      <th>26</th>\n",
       "      <th>27</th>\n",
       "      <th>...</th>\n",
       "      <th>16</th>\n",
       "      <th>17</th>\n",
       "      <th>18</th>\n",
       "      <th>19</th>\n",
       "      <th>20</th>\n",
       "      <th>21</th>\n",
       "      <th>22</th>\n",
       "      <th>23</th>\n",
       "      <th>24</th>\n",
       "      <th>25</th>\n",
       "    </tr>\n",
       "  </thead>\n",
       "  <tbody>\n",
       "    <tr>\n",
       "      <th>ndvi_ne</th>\n",
       "      <td>0.122600</td>\n",
       "      <td>0.169900</td>\n",
       "      <td>0.032250</td>\n",
       "      <td>0.128633</td>\n",
       "      <td>0.19620</td>\n",
       "      <td>NaN</td>\n",
       "      <td>0.112900</td>\n",
       "      <td>0.072500</td>\n",
       "      <td>0.102450</td>\n",
       "      <td>NaN</td>\n",
       "      <td>...</td>\n",
       "      <td>0.231486</td>\n",
       "      <td>0.239743</td>\n",
       "      <td>0.260814</td>\n",
       "      <td>0.168686</td>\n",
       "      <td>0.263071</td>\n",
       "      <td>0.342750</td>\n",
       "      <td>0.160157</td>\n",
       "      <td>0.247057</td>\n",
       "      <td>0.333914</td>\n",
       "      <td>0.298186</td>\n",
       "    </tr>\n",
       "    <tr>\n",
       "      <th>ndvi_nw</th>\n",
       "      <td>0.103725</td>\n",
       "      <td>0.142175</td>\n",
       "      <td>0.172967</td>\n",
       "      <td>0.245067</td>\n",
       "      <td>0.26220</td>\n",
       "      <td>0.174850</td>\n",
       "      <td>0.092800</td>\n",
       "      <td>0.072500</td>\n",
       "      <td>0.146175</td>\n",
       "      <td>0.121550</td>\n",
       "      <td>...</td>\n",
       "      <td>0.294686</td>\n",
       "      <td>0.259271</td>\n",
       "      <td>0.255786</td>\n",
       "      <td>0.158500</td>\n",
       "      <td>0.272500</td>\n",
       "      <td>0.318900</td>\n",
       "      <td>0.160371</td>\n",
       "      <td>0.146057</td>\n",
       "      <td>0.245771</td>\n",
       "      <td>0.232971</td>\n",
       "    </tr>\n",
       "    <tr>\n",
       "      <th>ndvi_se</th>\n",
       "      <td>0.198483</td>\n",
       "      <td>0.162357</td>\n",
       "      <td>0.157200</td>\n",
       "      <td>0.227557</td>\n",
       "      <td>0.25120</td>\n",
       "      <td>0.254314</td>\n",
       "      <td>0.205071</td>\n",
       "      <td>0.151471</td>\n",
       "      <td>0.125571</td>\n",
       "      <td>0.160683</td>\n",
       "      <td>...</td>\n",
       "      <td>0.331657</td>\n",
       "      <td>0.307786</td>\n",
       "      <td>0.257771</td>\n",
       "      <td>0.133071</td>\n",
       "      <td>0.258271</td>\n",
       "      <td>0.256343</td>\n",
       "      <td>0.136043</td>\n",
       "      <td>0.250357</td>\n",
       "      <td>0.278886</td>\n",
       "      <td>0.274214</td>\n",
       "    </tr>\n",
       "    <tr>\n",
       "      <th>ndvi_sw</th>\n",
       "      <td>0.177617</td>\n",
       "      <td>0.155486</td>\n",
       "      <td>0.170843</td>\n",
       "      <td>0.235886</td>\n",
       "      <td>0.24734</td>\n",
       "      <td>0.181743</td>\n",
       "      <td>0.210271</td>\n",
       "      <td>0.133029</td>\n",
       "      <td>0.123600</td>\n",
       "      <td>0.202567</td>\n",
       "      <td>...</td>\n",
       "      <td>0.244400</td>\n",
       "      <td>0.307943</td>\n",
       "      <td>0.340286</td>\n",
       "      <td>0.145600</td>\n",
       "      <td>0.244500</td>\n",
       "      <td>0.292514</td>\n",
       "      <td>0.225657</td>\n",
       "      <td>0.233714</td>\n",
       "      <td>0.325486</td>\n",
       "      <td>0.315757</td>\n",
       "    </tr>\n",
       "    <tr>\n",
       "      <th>precipitation_amt_mm</th>\n",
       "      <td>12.420000</td>\n",
       "      <td>22.820000</td>\n",
       "      <td>34.540000</td>\n",
       "      <td>15.360000</td>\n",
       "      <td>7.52000</td>\n",
       "      <td>9.580000</td>\n",
       "      <td>3.480000</td>\n",
       "      <td>151.120000</td>\n",
       "      <td>19.320000</td>\n",
       "      <td>14.410000</td>\n",
       "      <td>...</td>\n",
       "      <td>86.700000</td>\n",
       "      <td>26.000000</td>\n",
       "      <td>73.970000</td>\n",
       "      <td>59.400000</td>\n",
       "      <td>1.150000</td>\n",
       "      <td>55.300000</td>\n",
       "      <td>86.470000</td>\n",
       "      <td>58.940000</td>\n",
       "      <td>59.670000</td>\n",
       "      <td>63.220000</td>\n",
       "    </tr>\n",
       "  </tbody>\n",
       "</table>\n",
       "<p>5 rows × 1456 columns</p>\n",
       "</div>"
      ],
      "text/plain": [
       "city                         sj                                            \\\n",
       "year                       1990                                             \n",
       "weekofyear                   18         19         20         21       22   \n",
       "ndvi_ne                0.122600   0.169900   0.032250   0.128633  0.19620   \n",
       "ndvi_nw                0.103725   0.142175   0.172967   0.245067  0.26220   \n",
       "ndvi_se                0.198483   0.162357   0.157200   0.227557  0.25120   \n",
       "ndvi_sw                0.177617   0.155486   0.170843   0.235886  0.24734   \n",
       "precipitation_amt_mm  12.420000  22.820000  34.540000  15.360000  7.52000   \n",
       "\n",
       "city                                                                        \\\n",
       "year                                                                         \n",
       "weekofyear                  23        24          25         26         27   \n",
       "ndvi_ne                    NaN  0.112900    0.072500   0.102450        NaN   \n",
       "ndvi_nw               0.174850  0.092800    0.072500   0.146175   0.121550   \n",
       "ndvi_se               0.254314  0.205071    0.151471   0.125571   0.160683   \n",
       "ndvi_sw               0.181743  0.210271    0.133029   0.123600   0.202567   \n",
       "precipitation_amt_mm  9.580000  3.480000  151.120000  19.320000  14.410000   \n",
       "\n",
       "city                  ...         iq                                   \\\n",
       "year                  ...       2010                                    \n",
       "weekofyear            ...         16         17         18         19   \n",
       "ndvi_ne               ...   0.231486   0.239743   0.260814   0.168686   \n",
       "ndvi_nw               ...   0.294686   0.259271   0.255786   0.158500   \n",
       "ndvi_se               ...   0.331657   0.307786   0.257771   0.133071   \n",
       "ndvi_sw               ...   0.244400   0.307943   0.340286   0.145600   \n",
       "precipitation_amt_mm  ...  86.700000  26.000000  73.970000  59.400000   \n",
       "\n",
       "city                                                                        \\\n",
       "year                                                                         \n",
       "weekofyear                  20         21         22         23         24   \n",
       "ndvi_ne               0.263071   0.342750   0.160157   0.247057   0.333914   \n",
       "ndvi_nw               0.272500   0.318900   0.160371   0.146057   0.245771   \n",
       "ndvi_se               0.258271   0.256343   0.136043   0.250357   0.278886   \n",
       "ndvi_sw               0.244500   0.292514   0.225657   0.233714   0.325486   \n",
       "precipitation_amt_mm  1.150000  55.300000  86.470000  58.940000  59.670000   \n",
       "\n",
       "city                             \n",
       "year                             \n",
       "weekofyear                   25  \n",
       "ndvi_ne                0.298186  \n",
       "ndvi_nw                0.232971  \n",
       "ndvi_se                0.274214  \n",
       "ndvi_sw                0.315757  \n",
       "precipitation_amt_mm  63.220000  \n",
       "\n",
       "[5 rows x 1456 columns]"
      ]
     },
     "execution_count": 5,
     "metadata": {},
     "output_type": "execute_result"
    }
   ],
   "source": [
    "df_transpose = transpose(df.drop(['week_start_date'], axis = 1))\n",
    "df_transpose.head()"
   ]
  },
  {
   "cell_type": "code",
   "execution_count": 6,
   "metadata": {},
   "outputs": [
    {
     "data": {
      "text/plain": [
       "(20, 1456)"
      ]
     },
     "execution_count": 6,
     "metadata": {},
     "output_type": "execute_result"
    }
   ],
   "source": [
    "# dimensionalidad del DataFrame\n",
    "df_transpose.shape"
   ]
  },
  {
   "cell_type": "code",
   "execution_count": 7,
   "metadata": {},
   "outputs": [
    {
     "data": {
      "text/plain": [
       "ndvi_ne                                  float64\n",
       "ndvi_nw                                  float64\n",
       "ndvi_se                                  float64\n",
       "ndvi_sw                                  float64\n",
       "precipitation_amt_mm                     float64\n",
       "reanalysis_air_temp_k                    float64\n",
       "reanalysis_avg_temp_k                    float64\n",
       "reanalysis_dew_point_temp_k              float64\n",
       "reanalysis_max_air_temp_k                float64\n",
       "reanalysis_min_air_temp_k                float64\n",
       "reanalysis_precip_amt_kg_per_m2          float64\n",
       "reanalysis_relative_humidity_percent     float64\n",
       "reanalysis_sat_precip_amt_mm             float64\n",
       "reanalysis_specific_humidity_g_per_kg    float64\n",
       "reanalysis_tdtr_k                        float64\n",
       "station_avg_temp_c                       float64\n",
       "station_diur_temp_rng_c                  float64\n",
       "station_max_temp_c                       float64\n",
       "station_min_temp_c                       float64\n",
       "station_precip_mm                        float64\n",
       "dtype: object"
      ]
     },
     "execution_count": 7,
     "metadata": {},
     "output_type": "execute_result"
    }
   ],
   "source": [
    "#tipo de dato de las variables\n",
    "df_transpose.transpose().dtypes"
   ]
  },
  {
   "cell_type": "markdown",
   "metadata": {},
   "source": [
    "Comprobamos si nuestro DataFrame existen valores nulos, si existen procedemos a eliminarlos."
   ]
  },
  {
   "cell_type": "code",
   "execution_count": 8,
   "metadata": {},
   "outputs": [
    {
     "data": {
      "text/plain": [
       "True"
      ]
     },
     "execution_count": 8,
     "metadata": {},
     "output_type": "execute_result"
    }
   ],
   "source": [
    "#muestra si hay valores nulos\n",
    "df_transpose.isnull().values.any()"
   ]
  },
  {
   "cell_type": "code",
   "execution_count": 9,
   "metadata": {},
   "outputs": [
    {
     "data": {
      "text/plain": [
       "False"
      ]
     },
     "execution_count": 9,
     "metadata": {},
     "output_type": "execute_result"
    }
   ],
   "source": [
    "#eliminamos nulos y volvemos a validar\n",
    "df_transpose = df_transpose.dropna(axis = 1)\n",
    "df_transpose.isnull().values.any()"
   ]
  },
  {
   "cell_type": "code",
   "execution_count": 10,
   "metadata": {},
   "outputs": [
    {
     "data": {
      "text/plain": [
       "(20, 1199)"
      ]
     },
     "execution_count": 10,
     "metadata": {},
     "output_type": "execute_result"
    }
   ],
   "source": [
    "#calculamos la nueva dimensionalidad\n",
    "df_transpose.shape"
   ]
  },
  {
   "cell_type": "markdown",
   "metadata": {},
   "source": [
    "### 2. Correlación entre variables\n",
    "Es necesario identificar aquellas variables que son redundantes, es decir, se puede asumir que representan lo mismo\n",
    "\n",
    "La Correlación es una técnica estadística usada para determinar la relación entre\n",
    "dos o más variables.\n",
    "\n",
    "La correlación puede ser de al menos dos variables o de una variable dependiente\n",
    "y dos o más variables independientes, denominada correlación múltiple\n"
   ]
  },
  {
   "cell_type": "code",
   "execution_count": 11,
   "metadata": {},
   "outputs": [
    {
     "data": {
      "text/plain": [
       "Index(['ndvi_ne', 'ndvi_nw', 'ndvi_se', 'ndvi_sw', 'precipitation_amt_mm',\n",
       "       'reanalysis_air_temp_k', 'reanalysis_avg_temp_k',\n",
       "       'reanalysis_dew_point_temp_k', 'reanalysis_max_air_temp_k',\n",
       "       'reanalysis_min_air_temp_k', 'reanalysis_precip_amt_kg_per_m2',\n",
       "       'reanalysis_relative_humidity_percent', 'reanalysis_sat_precip_amt_mm',\n",
       "       'reanalysis_specific_humidity_g_per_kg', 'reanalysis_tdtr_k',\n",
       "       'station_avg_temp_c', 'station_diur_temp_rng_c', 'station_max_temp_c',\n",
       "       'station_min_temp_c', 'station_precip_mm'],\n",
       "      dtype='object')"
      ]
     },
     "execution_count": 11,
     "metadata": {},
     "output_type": "execute_result"
    }
   ],
   "source": [
    "names = df_transpose.index\n",
    "names"
   ]
  },
  {
   "cell_type": "markdown",
   "metadata": {},
   "source": [
    "__Coeficiente de correlación__\n",
    "\n",
    "El Coeficiente de Correlación es un valor cuantitativo de la relación entre dos o\n",
    "más variables.\n",
    "El coeficiente de correlación puede variar desde -1.00 hasta 1.00.\n",
    "\n",
    "La correlación de proporcionalidad directa o positiva se establece con los valores\n",
    "+1.00 y de proporcionalidad inversa o negativa, con -1.00. No existe relación entre\n",
    "las variables cuando el coeficiente es de 0.00."
   ]
  },
  {
   "cell_type": "code",
   "execution_count": 12,
   "metadata": {},
   "outputs": [
    {
     "data": {
      "text/plain": [
       "array([ 0.84727684,  1.        ,  0.56747819,  0.66096702,  0.21018907,\n",
       "       -0.32433526, -0.03158167,  0.07665624,  0.61004179, -0.59314073,\n",
       "        0.20016136,  0.46178041,  0.21018907,  0.11513647,  0.64813794,\n",
       "        0.20135465,  0.65639237,  0.49722601, -0.30797575,  0.237655  ])"
      ]
     },
     "execution_count": 12,
     "metadata": {},
     "output_type": "execute_result"
    }
   ],
   "source": [
    "#https://docs.scipy.org/doc/numpy/reference/generated/numpy.corrcoef.html\n",
    "R = corrcoef(df_transpose)\n",
    "R[1]"
   ]
  },
  {
   "cell_type": "code",
   "execution_count": 13,
   "metadata": {},
   "outputs": [
    {
     "data": {
      "text/plain": [
       "<matplotlib.axes._subplots.AxesSubplot at 0x29289a83fd0>"
      ]
     },
     "execution_count": 13,
     "metadata": {},
     "output_type": "execute_result"
    },
    {
     "data": {
      "image/png": "[encoded data removed]",
      "text/plain": [
       "<Figure size 792x648 with 2 Axes>"
      ]
     },
     "metadata": {},
     "output_type": "display_data"
    }
   ],
   "source": [
    "# http://stanford.edu/~mwaskom/software/seaborn/examples/many_pairwise_correlations.html\n",
    "# Generate a mask for the upper triangle\n",
    "sns.set(style=\"white\")\n",
    "mask = np.zeros_like(R, dtype=np.bool)\n",
    "mask[np.triu_indices_from(mask)] = True\n",
    "\n",
    "# Set up the matplotlib figure\n",
    "f, ax = plt.subplots(figsize=(11, 9))\n",
    "\n",
    "# Generate a custom diverging colormap\n",
    "cmap = sns.diverging_palette(200, 10, as_cmap=True)\n",
    "\n",
    "# Draw the heatmap with the mask and correct aspect ratio\n",
    "sns.heatmap(R, \n",
    "            mask=mask, \n",
    "            cmap=cmap, \n",
    "            vmax=.8,\n",
    "            square=True, \n",
    "            xticklabels=names, \n",
    "            yticklabels=names,\n",
    "            linewidths=.5, \n",
    "            cbar_kws={\"shrink\": .5}, \n",
    "            ax=ax\n",
    "           )"
   ]
  },
  {
   "cell_type": "markdown",
   "metadata": {},
   "source": [
    "Se observa correlación entre varias variables, pero no llegan a ser tan significativas, solo para casos puntuales"
   ]
  },
  {
   "cell_type": "markdown",
   "metadata": {},
   "source": [
    "### Análisis de componentes principales (PCA)\n",
    "\n",
    "Observar cómo están relacionadas las variables.\n",
    "\n",
    "es una técnica estadística descriptiva que tiene como punto de partida una matriz de datos con una serie de individuos a los que se les ha medido varias variables. Por eso suele clasificarse como una técnica multivariante.\n"
   ]
  },
  {
   "cell_type": "code",
   "execution_count": 66,
   "metadata": {},
   "outputs": [],
   "source": [
    "#1. Normalization of the data\n",
    "#http://scikit-learn.org/stable/modules/preprocessing.html\n",
    "from sklearn import preprocessing \n",
    "\n",
    "min_max_scaler = preprocessing.MinMaxScaler()\n",
    "features_norm = min_max_scaler.fit_transform(df_transpose)\n"
   ]
  },
  {
   "cell_type": "code",
   "execution_count": 15,
   "metadata": {},
   "outputs": [
    {
     "name": "stdout",
     "output_type": "stream",
     "text": [
      "Variance Ratio:  [0.97844003 0.01260983]\n"
     ]
    }
   ],
   "source": [
    "#1.2. Principal Component Analysis\n",
    "from sklearn.decomposition import PCA\n",
    "estimator = PCA (n_components = 2)\n",
    "X_pca = estimator.fit_transform(features_norm)\n",
    "print(\"Variance Ratio: \", estimator.explained_variance_ratio_) "
   ]
  },
  {
   "cell_type": "code",
   "execution_count": 16,
   "metadata": {},
   "outputs": [
    {
     "data": {
      "image/png": "[encoded data removed]",
      "text/plain": [
       "<Figure size 432x288 with 1 Axes>"
      ]
     },
     "metadata": {},
     "output_type": "display_data"
    }
   ],
   "source": [
    "import matplotlib.pyplot as plt\n",
    "\n",
    "fig, ax = plt.subplots()\n",
    "for i in range(len(X_pca)):\n",
    "    plt.text(X_pca[i][0], X_pca[i][1], names[i]) \n",
    "\n",
    "plt.xlim(-15, 50)\n",
    "plt.ylim(-2, 4)\n",
    "ax.grid(True)\n",
    "fig.tight_layout()\n",
    "plt.show()"
   ]
  },
  {
   "cell_type": "markdown",
   "metadata": {},
   "source": [
    "El rátio de variabilidad por eje es bueno, con el eje X se representa más del 97% de la variabilidad del conjunto de datos. \n",
    "\n",
    "Una vez que hemos verificado que el resultado es fiable podemos ver que muchas de las variables son muy parecidas entre ellas, y sin embargo otras son distintas de las demás y podrían ser las seleccionadas para realizar un clustering posterior."
   ]
  },
  {
   "cell_type": "markdown",
   "metadata": {},
   "source": [
    "##  Clustering jerárquico\n",
    "Dado que tenemos pocos elementos que estudiar podemos utilizar clustering jerárquico para observar las relaciones de similitud entre el desarrollo de las variables. Aquellas grupos de variables que sean similares entre ellas pueden ser resumidas escogiendo una de ellas y de esa forma reduciríamos la dimensionalidad del conjunto de datos.\n",
    "\n",
    "Para evitar la maldición de la dimensionalidad se puede hacer el clustering con los resultados del análisis de componentes principales, aunque hay que ser precavido ya que aunque reducida, existe perdida de variabilidad en los datos cuando se hace la proyección."
   ]
  },
  {
   "cell_type": "code",
   "execution_count": 20,
   "metadata": {},
   "outputs": [
    {
     "data": {
      "image/png": "[encoded data removed]",
      "text/plain": [
       "<Figure size 432x288 with 2 Axes>"
      ]
     },
     "metadata": {},
     "output_type": "display_data"
    }
   ],
   "source": [
    "# 2. Compute the similarity matrix\n",
    "#http://docs.scipy.org/doc/scipy/reference/cluster.html\n",
    "from scipy import cluster\n",
    "import sklearn.neighbors\n",
    "dist_ft = sklearn.neighbors.DistanceMetric.get_metric('euclidean')\n",
    "matdist = dist_ft.pairwise(features_norm)\n",
    "\n",
    "\n",
    "# 3.1.1 Visualization\n",
    "import seaborn as sns; sns.set()\n",
    "ax = sns.heatmap(matdist,vmin=0, vmax=1, yticklabels = names, xticklabels = names)"
   ]
  },
  {
   "cell_type": "markdown",
   "metadata": {},
   "source": [
    "Al graficar la matriz de distancia podemos ver que las variables entre si no son demasiado parecidas,  en un grupo de 5 puntos, los más oscuros."
   ]
  },
  {
   "cell_type": "code",
   "execution_count": 22,
   "metadata": {},
   "outputs": [
    {
     "name": "stderr",
     "output_type": "stream",
     "text": [
      "C:\\Users\\danie\\Anaconda3\\lib\\site-packages\\ipykernel_launcher.py:3: ClusterWarning: scipy.cluster: The symmetric non-negative hollow observation matrix looks suspiciously like an uncondensed distance matrix\n",
      "  This is separate from the ipykernel package so we can avoid doing imports until\n"
     ]
    },
    {
     "data": {
      "image/png": "[encoded data removed]",
      "text/plain": [
       "<Figure size 432x288 with 1 Axes>"
      ]
     },
     "metadata": {},
     "output_type": "display_data"
    }
   ],
   "source": [
    "# 3. Building the Dendrogram\t\n",
    "# http://docs.scipy.org/doc/scipy/reference/generated/scipy.cluster.hierarchy.linkage.html#scipy.cluster.hierarchy.linkage\n",
    "clusters = cluster.hierarchy.linkage(matdist, method = 'average')\n",
    "\n",
    "# http://docs.scipy.org/doc/scipy-0.14.0/reference/generated/scipy.cluster.hierarchy.dendrogram.html\n",
    "cluster.hierarchy.dendrogram(clusters, color_threshold = 10, labels = names , leaf_rotation=90)\n",
    "plt.show()"
   ]
  },
  {
   "cell_type": "code",
   "execution_count": 23,
   "metadata": {},
   "outputs": [
    {
     "data": {
      "text/plain": [
       "array([2, 2, 2, 2, 3, 1, 1, 1, 1, 1, 3, 4, 3, 2, 2, 2, 2, 2, 2, 3],\n",
       "      dtype=int32)"
      ]
     },
     "execution_count": 23,
     "metadata": {},
     "output_type": "execute_result"
    }
   ],
   "source": [
    "cut = 10 # !!!! ad-hoc\n",
    "labels = cluster.hierarchy.fcluster(clusters, cut , criterion = 'distance')\n",
    "\n",
    "labels"
   ]
  },
  {
   "cell_type": "markdown",
   "metadata": {},
   "source": [
    "Hemos utilizado Single Link con el propósito de aislar rápidamente aquellos elementos que son outliers y que van a ser las características más significativas, en los siguientes casos\n",
    "- reanalysis_air_temp_k\n",
    "- reanalysis_max_air_temp_k \n",
    "- reanalysis_avg_temp_k\n",
    "- reanalysis_dew_point_temp_k\n",
    "- reanalysis_min_air_temp_k\n",
    "\n"
   ]
  },
  {
   "cell_type": "code",
   "execution_count": 25,
   "metadata": {},
   "outputs": [
    {
     "data": {
      "image/png": "[encoded data removed]",
      "text/plain": [
       "<Figure size 432x288 with 1 Axes>"
      ]
     },
     "metadata": {},
     "output_type": "display_data"
    }
   ],
   "source": [
    "#plotting orginal points with color related to label\n",
    "plt.scatter(X_pca[:,0], X_pca[:,1], c=labels,s=50)\n",
    "for i in range(len(X_pca)):\n",
    "    plt.text(X_pca[i][0], X_pca[i][1], names[i][0:3]) \n",
    "\n",
    "plt.grid()\n",
    "plt.show()"
   ]
  },
  {
   "cell_type": "markdown",
   "metadata": {},
   "source": [
    "## DBSCAN\n",
    "Vamos a identificar elementos outliers mediante la utilización de DBSCAN. El propósito de identificar ouliter es aislar aquellas características que son diferentes a los demás y que nos pueden ayudar a distinguir a los diferentes elementos a los que representan."
   ]
  },
  {
   "cell_type": "markdown",
   "metadata": {},
   "source": [
    "Vamos a fijar MinPts = 3 y observar que epsilon podemos establecer"
   ]
  },
  {
   "cell_type": "code",
   "execution_count": 26,
   "metadata": {},
   "outputs": [
    {
     "data": {
      "image/png": "[encoded data removed]",
      "text/plain": [
       "<Figure size 432x288 with 1 Axes>"
      ]
     },
     "metadata": {},
     "output_type": "display_data"
    }
   ],
   "source": [
    "import numpy\n",
    "minPts=3\n",
    "\n",
    "from sklearn.neighbors import kneighbors_graph\n",
    "A = kneighbors_graph(features_norm, minPts, include_self=False)\n",
    "Ar = A.toarray()\n",
    "\n",
    "seq = []\n",
    "for i,s in enumerate(features_norm):\n",
    "    for j in range(len(features_norm)):\n",
    "        if Ar[i][j] != 0:\n",
    "            seq.append(matdist[i][j])\n",
    "            \n",
    "seq.sort()\n",
    "# establecer intervalo ejes\n",
    "fig = plt.figure()\n",
    "ax = fig.gca()\n",
    "ax.set_xticks(numpy.arange(0, 80, 5))\n",
    "ax.set_yticks(numpy.arange(0, 7, 0.6))\n",
    "\n",
    "plt.plot(seq)\n",
    "\n",
    "\n",
    "plt.show()"
   ]
  },
  {
   "cell_type": "markdown",
   "metadata": {},
   "source": [
    "*Vamos* a establecer un rango amplio de pruebas teniendo en cuenta que buscamos aislar elementos diferentes a los demás. "
   ]
  },
  {
   "cell_type": "code",
   "execution_count": 27,
   "metadata": {},
   "outputs": [
    {
     "name": "stdout",
     "output_type": "stream",
     "text": [
      "  0.50, 2, 12\n",
      "  0.70, 3, 5\n",
      "  0.90, 3, 5\n",
      "  1.10, 3, 1\n",
      "  1.30, 3, 1\n",
      "  1.50, 3, 1\n",
      "  1.70, 3, 1\n"
     ]
    }
   ],
   "source": [
    "from sklearn.cluster import DBSCAN\n",
    "\n",
    "for eps in numpy.arange(0.5, 1.8, 0.2):\n",
    "  db = DBSCAN(eps, min_samples=minPts).fit(X_pca)\n",
    "  core_samples_mask = numpy.zeros_like(db.labels_, dtype=bool)\n",
    "  core_samples_mask[db.core_sample_indices_] = True\n",
    "  labels = db.labels_\n",
    "  n_clusters_ = len(set(labels)) - (1 if -1 in labels else 0)\n",
    "  n_outliers = list(labels).count(-1)\n",
    "  print (\"%6.2f, %d, %d\" % (eps, n_clusters_, n_outliers))\n",
    "  \n",
    "#labels"
   ]
  },
  {
   "cell_type": "markdown",
   "metadata": {},
   "source": [
    "Como podemos observar DBSCAN nos agrupa los elementos en un grupo y el resto son outliers. El número de outliers si es significativo tenerlo en cuenta, por lo que nos vamos a quedar con las parametrizaciones que nos ofrecen un mayor número de outliers."
   ]
  },
  {
   "cell_type": "code",
   "execution_count": 28,
   "metadata": {},
   "outputs": [
    {
     "data": {
      "text/plain": [
       "array([ 0,  0,  0,  0, -1,  1,  1,  1, -1,  1, -1, -1, -1, -1, -1, -1, -1,\n",
       "       -1, -1, -1], dtype=int64)"
      ]
     },
     "execution_count": 28,
     "metadata": {},
     "output_type": "execute_result"
    }
   ],
   "source": [
    "db = DBSCAN(eps=0.5, min_samples=minPts).fit(X_pca)\n",
    "labels = db.labels_\n",
    "labels"
   ]
  },
  {
   "cell_type": "code",
   "execution_count": 29,
   "metadata": {},
   "outputs": [
    {
     "data": {
      "image/png": "[encoded data removed]",
      "text/plain": [
       "<Figure size 432x288 with 1 Axes>"
      ]
     },
     "metadata": {},
     "output_type": "display_data"
    }
   ],
   "source": [
    "#plotting orginal points with color related to label\n",
    "plt.scatter(X_pca[:,0], X_pca[:,1], c=labels,s=60)\n",
    "for i in range(len(X_pca)):\n",
    "    plt.text(X_pca[i][0], X_pca[i][1], names[i][0:10]) \n",
    "plt.grid()\n",
    "plt.show()"
   ]
  },
  {
   "cell_type": "code",
   "execution_count": 30,
   "metadata": {},
   "outputs": [
    {
     "data": {
      "text/html": [
       "<div>\n",
       "<style scoped>\n",
       "    .dataframe tbody tr th:only-of-type {\n",
       "        vertical-align: middle;\n",
       "    }\n",
       "\n",
       "    .dataframe tbody tr th {\n",
       "        vertical-align: top;\n",
       "    }\n",
       "\n",
       "    .dataframe thead tr th {\n",
       "        text-align: left;\n",
       "    }\n",
       "</style>\n",
       "<table border=\"1\" class=\"dataframe\">\n",
       "  <thead>\n",
       "    <tr>\n",
       "      <th>city</th>\n",
       "      <th colspan=\"10\" halign=\"left\">sj</th>\n",
       "      <th>...</th>\n",
       "      <th colspan=\"9\" halign=\"left\">iq</th>\n",
       "      <th>dbscan_group</th>\n",
       "    </tr>\n",
       "    <tr>\n",
       "      <th>year</th>\n",
       "      <th colspan=\"10\" halign=\"left\">1990</th>\n",
       "      <th>...</th>\n",
       "      <th colspan=\"9\" halign=\"left\">2010</th>\n",
       "      <th></th>\n",
       "    </tr>\n",
       "    <tr>\n",
       "      <th>weekofyear</th>\n",
       "      <th>18</th>\n",
       "      <th>19</th>\n",
       "      <th>20</th>\n",
       "      <th>21</th>\n",
       "      <th>22</th>\n",
       "      <th>24</th>\n",
       "      <th>25</th>\n",
       "      <th>26</th>\n",
       "      <th>28</th>\n",
       "      <th>29</th>\n",
       "      <th>...</th>\n",
       "      <th>17</th>\n",
       "      <th>18</th>\n",
       "      <th>19</th>\n",
       "      <th>20</th>\n",
       "      <th>21</th>\n",
       "      <th>22</th>\n",
       "      <th>23</th>\n",
       "      <th>24</th>\n",
       "      <th>25</th>\n",
       "      <th></th>\n",
       "    </tr>\n",
       "  </thead>\n",
       "  <tbody>\n",
       "    <tr>\n",
       "      <th>precipitation_amt_mm</th>\n",
       "      <td>12.420000</td>\n",
       "      <td>22.820000</td>\n",
       "      <td>34.540000</td>\n",
       "      <td>15.360000</td>\n",
       "      <td>7.520000</td>\n",
       "      <td>3.480000</td>\n",
       "      <td>151.120000</td>\n",
       "      <td>19.320000</td>\n",
       "      <td>22.270000</td>\n",
       "      <td>59.170000</td>\n",
       "      <td>...</td>\n",
       "      <td>26.000000</td>\n",
       "      <td>73.970000</td>\n",
       "      <td>59.400000</td>\n",
       "      <td>1.150000</td>\n",
       "      <td>55.300000</td>\n",
       "      <td>86.470000</td>\n",
       "      <td>58.940000</td>\n",
       "      <td>59.670000</td>\n",
       "      <td>63.220000</td>\n",
       "      <td>-1</td>\n",
       "    </tr>\n",
       "    <tr>\n",
       "      <th>reanalysis_max_air_temp_k</th>\n",
       "      <td>299.800000</td>\n",
       "      <td>300.900000</td>\n",
       "      <td>300.500000</td>\n",
       "      <td>301.400000</td>\n",
       "      <td>301.900000</td>\n",
       "      <td>301.300000</td>\n",
       "      <td>300.600000</td>\n",
       "      <td>302.100000</td>\n",
       "      <td>301.800000</td>\n",
       "      <td>302.000000</td>\n",
       "      <td>...</td>\n",
       "      <td>308.400000</td>\n",
       "      <td>304.700000</td>\n",
       "      <td>306.000000</td>\n",
       "      <td>308.700000</td>\n",
       "      <td>309.700000</td>\n",
       "      <td>308.500000</td>\n",
       "      <td>305.500000</td>\n",
       "      <td>306.100000</td>\n",
       "      <td>307.800000</td>\n",
       "      <td>-1</td>\n",
       "    </tr>\n",
       "    <tr>\n",
       "      <th>reanalysis_precip_amt_kg_per_m2</th>\n",
       "      <td>32.000000</td>\n",
       "      <td>17.940000</td>\n",
       "      <td>26.100000</td>\n",
       "      <td>13.900000</td>\n",
       "      <td>12.200000</td>\n",
       "      <td>38.600000</td>\n",
       "      <td>30.000000</td>\n",
       "      <td>37.510000</td>\n",
       "      <td>43.720000</td>\n",
       "      <td>40.900000</td>\n",
       "      <td>...</td>\n",
       "      <td>23.600000</td>\n",
       "      <td>85.460000</td>\n",
       "      <td>87.300000</td>\n",
       "      <td>8.800000</td>\n",
       "      <td>45.000000</td>\n",
       "      <td>207.100000</td>\n",
       "      <td>50.600000</td>\n",
       "      <td>62.330000</td>\n",
       "      <td>36.900000</td>\n",
       "      <td>-1</td>\n",
       "    </tr>\n",
       "    <tr>\n",
       "      <th>reanalysis_relative_humidity_percent</th>\n",
       "      <td>73.365714</td>\n",
       "      <td>77.368571</td>\n",
       "      <td>82.052857</td>\n",
       "      <td>80.337143</td>\n",
       "      <td>80.460000</td>\n",
       "      <td>82.000000</td>\n",
       "      <td>83.375714</td>\n",
       "      <td>82.768571</td>\n",
       "      <td>81.467143</td>\n",
       "      <td>82.144286</td>\n",
       "      <td>...</td>\n",
       "      <td>87.657143</td>\n",
       "      <td>96.712857</td>\n",
       "      <td>97.445714</td>\n",
       "      <td>78.998571</td>\n",
       "      <td>88.765714</td>\n",
       "      <td>91.600000</td>\n",
       "      <td>94.280000</td>\n",
       "      <td>94.660000</td>\n",
       "      <td>89.082857</td>\n",
       "      <td>-1</td>\n",
       "    </tr>\n",
       "    <tr>\n",
       "      <th>reanalysis_sat_precip_amt_mm</th>\n",
       "      <td>12.420000</td>\n",
       "      <td>22.820000</td>\n",
       "      <td>34.540000</td>\n",
       "      <td>15.360000</td>\n",
       "      <td>7.520000</td>\n",
       "      <td>3.480000</td>\n",
       "      <td>151.120000</td>\n",
       "      <td>19.320000</td>\n",
       "      <td>22.270000</td>\n",
       "      <td>59.170000</td>\n",
       "      <td>...</td>\n",
       "      <td>26.000000</td>\n",
       "      <td>73.970000</td>\n",
       "      <td>59.400000</td>\n",
       "      <td>1.150000</td>\n",
       "      <td>55.300000</td>\n",
       "      <td>86.470000</td>\n",
       "      <td>58.940000</td>\n",
       "      <td>59.670000</td>\n",
       "      <td>63.220000</td>\n",
       "      <td>-1</td>\n",
       "    </tr>\n",
       "    <tr>\n",
       "      <th>reanalysis_specific_humidity_g_per_kg</th>\n",
       "      <td>14.012857</td>\n",
       "      <td>15.372857</td>\n",
       "      <td>16.848571</td>\n",
       "      <td>16.672857</td>\n",
       "      <td>17.210000</td>\n",
       "      <td>17.234286</td>\n",
       "      <td>17.977143</td>\n",
       "      <td>17.790000</td>\n",
       "      <td>17.418571</td>\n",
       "      <td>17.737143</td>\n",
       "      <td>...</td>\n",
       "      <td>18.068571</td>\n",
       "      <td>18.602857</td>\n",
       "      <td>18.391429</td>\n",
       "      <td>14.908571</td>\n",
       "      <td>18.485714</td>\n",
       "      <td>18.070000</td>\n",
       "      <td>17.008571</td>\n",
       "      <td>16.815714</td>\n",
       "      <td>17.355714</td>\n",
       "      <td>-1</td>\n",
       "    </tr>\n",
       "    <tr>\n",
       "      <th>reanalysis_tdtr_k</th>\n",
       "      <td>2.628571</td>\n",
       "      <td>2.371429</td>\n",
       "      <td>2.300000</td>\n",
       "      <td>2.428571</td>\n",
       "      <td>3.014286</td>\n",
       "      <td>2.042857</td>\n",
       "      <td>1.571429</td>\n",
       "      <td>1.885714</td>\n",
       "      <td>2.157143</td>\n",
       "      <td>2.414286</td>\n",
       "      <td>...</td>\n",
       "      <td>8.257143</td>\n",
       "      <td>5.714286</td>\n",
       "      <td>6.185714</td>\n",
       "      <td>11.242857</td>\n",
       "      <td>9.800000</td>\n",
       "      <td>7.471429</td>\n",
       "      <td>7.500000</td>\n",
       "      <td>7.871429</td>\n",
       "      <td>11.014286</td>\n",
       "      <td>-1</td>\n",
       "    </tr>\n",
       "    <tr>\n",
       "      <th>station_avg_temp_c</th>\n",
       "      <td>25.442857</td>\n",
       "      <td>26.714286</td>\n",
       "      <td>26.714286</td>\n",
       "      <td>27.471429</td>\n",
       "      <td>28.942857</td>\n",
       "      <td>27.414286</td>\n",
       "      <td>28.371429</td>\n",
       "      <td>28.328571</td>\n",
       "      <td>27.557143</td>\n",
       "      <td>28.128571</td>\n",
       "      <td>...</td>\n",
       "      <td>28.850000</td>\n",
       "      <td>27.600000</td>\n",
       "      <td>27.400000</td>\n",
       "      <td>25.633333</td>\n",
       "      <td>28.633333</td>\n",
       "      <td>27.433333</td>\n",
       "      <td>24.400000</td>\n",
       "      <td>25.433333</td>\n",
       "      <td>27.475000</td>\n",
       "      <td>-1</td>\n",
       "    </tr>\n",
       "    <tr>\n",
       "      <th>station_diur_temp_rng_c</th>\n",
       "      <td>6.900000</td>\n",
       "      <td>6.371429</td>\n",
       "      <td>6.485714</td>\n",
       "      <td>6.771429</td>\n",
       "      <td>9.371429</td>\n",
       "      <td>6.771429</td>\n",
       "      <td>7.685714</td>\n",
       "      <td>7.385714</td>\n",
       "      <td>7.157143</td>\n",
       "      <td>6.900000</td>\n",
       "      <td>...</td>\n",
       "      <td>12.125000</td>\n",
       "      <td>9.600000</td>\n",
       "      <td>10.400000</td>\n",
       "      <td>9.200000</td>\n",
       "      <td>11.933333</td>\n",
       "      <td>10.500000</td>\n",
       "      <td>6.900000</td>\n",
       "      <td>8.733333</td>\n",
       "      <td>9.900000</td>\n",
       "      <td>-1</td>\n",
       "    </tr>\n",
       "    <tr>\n",
       "      <th>station_max_temp_c</th>\n",
       "      <td>29.400000</td>\n",
       "      <td>31.700000</td>\n",
       "      <td>32.200000</td>\n",
       "      <td>33.300000</td>\n",
       "      <td>35.000000</td>\n",
       "      <td>32.200000</td>\n",
       "      <td>33.900000</td>\n",
       "      <td>33.900000</td>\n",
       "      <td>31.700000</td>\n",
       "      <td>32.800000</td>\n",
       "      <td>...</td>\n",
       "      <td>36.200000</td>\n",
       "      <td>33.200000</td>\n",
       "      <td>33.700000</td>\n",
       "      <td>34.000000</td>\n",
       "      <td>35.400000</td>\n",
       "      <td>34.700000</td>\n",
       "      <td>32.200000</td>\n",
       "      <td>31.200000</td>\n",
       "      <td>33.700000</td>\n",
       "      <td>-1</td>\n",
       "    </tr>\n",
       "    <tr>\n",
       "      <th>station_min_temp_c</th>\n",
       "      <td>20.000000</td>\n",
       "      <td>22.200000</td>\n",
       "      <td>22.800000</td>\n",
       "      <td>23.300000</td>\n",
       "      <td>23.900000</td>\n",
       "      <td>23.300000</td>\n",
       "      <td>22.800000</td>\n",
       "      <td>22.800000</td>\n",
       "      <td>21.700000</td>\n",
       "      <td>23.900000</td>\n",
       "      <td>...</td>\n",
       "      <td>21.400000</td>\n",
       "      <td>21.400000</td>\n",
       "      <td>21.200000</td>\n",
       "      <td>20.000000</td>\n",
       "      <td>22.400000</td>\n",
       "      <td>21.700000</td>\n",
       "      <td>19.200000</td>\n",
       "      <td>21.000000</td>\n",
       "      <td>22.200000</td>\n",
       "      <td>-1</td>\n",
       "    </tr>\n",
       "    <tr>\n",
       "      <th>station_precip_mm</th>\n",
       "      <td>16.000000</td>\n",
       "      <td>8.600000</td>\n",
       "      <td>41.400000</td>\n",
       "      <td>4.000000</td>\n",
       "      <td>5.800000</td>\n",
       "      <td>29.700000</td>\n",
       "      <td>21.100000</td>\n",
       "      <td>21.100000</td>\n",
       "      <td>63.700000</td>\n",
       "      <td>12.200000</td>\n",
       "      <td>...</td>\n",
       "      <td>35.400000</td>\n",
       "      <td>8.100000</td>\n",
       "      <td>32.000000</td>\n",
       "      <td>2.500000</td>\n",
       "      <td>27.000000</td>\n",
       "      <td>36.600000</td>\n",
       "      <td>7.400000</td>\n",
       "      <td>16.000000</td>\n",
       "      <td>20.400000</td>\n",
       "      <td>-1</td>\n",
       "    </tr>\n",
       "  </tbody>\n",
       "</table>\n",
       "<p>12 rows × 1200 columns</p>\n",
       "</div>"
      ],
      "text/plain": [
       "city                                           sj                          \\\n",
       "year                                         1990                           \n",
       "weekofyear                                     18          19          20   \n",
       "precipitation_amt_mm                    12.420000   22.820000   34.540000   \n",
       "reanalysis_max_air_temp_k              299.800000  300.900000  300.500000   \n",
       "reanalysis_precip_amt_kg_per_m2         32.000000   17.940000   26.100000   \n",
       "reanalysis_relative_humidity_percent    73.365714   77.368571   82.052857   \n",
       "reanalysis_sat_precip_amt_mm            12.420000   22.820000   34.540000   \n",
       "reanalysis_specific_humidity_g_per_kg   14.012857   15.372857   16.848571   \n",
       "reanalysis_tdtr_k                        2.628571    2.371429    2.300000   \n",
       "station_avg_temp_c                      25.442857   26.714286   26.714286   \n",
       "station_diur_temp_rng_c                  6.900000    6.371429    6.485714   \n",
       "station_max_temp_c                      29.400000   31.700000   32.200000   \n",
       "station_min_temp_c                      20.000000   22.200000   22.800000   \n",
       "station_precip_mm                       16.000000    8.600000   41.400000   \n",
       "\n",
       "city                                                                       \\\n",
       "year                                                                        \n",
       "weekofyear                                     21          22          24   \n",
       "precipitation_amt_mm                    15.360000    7.520000    3.480000   \n",
       "reanalysis_max_air_temp_k              301.400000  301.900000  301.300000   \n",
       "reanalysis_precip_amt_kg_per_m2         13.900000   12.200000   38.600000   \n",
       "reanalysis_relative_humidity_percent    80.337143   80.460000   82.000000   \n",
       "reanalysis_sat_precip_amt_mm            15.360000    7.520000    3.480000   \n",
       "reanalysis_specific_humidity_g_per_kg   16.672857   17.210000   17.234286   \n",
       "reanalysis_tdtr_k                        2.428571    3.014286    2.042857   \n",
       "station_avg_temp_c                      27.471429   28.942857   27.414286   \n",
       "station_diur_temp_rng_c                  6.771429    9.371429    6.771429   \n",
       "station_max_temp_c                      33.300000   35.000000   32.200000   \n",
       "station_min_temp_c                      23.300000   23.900000   23.300000   \n",
       "station_precip_mm                        4.000000    5.800000   29.700000   \n",
       "\n",
       "city                                                                       \\\n",
       "year                                                                        \n",
       "weekofyear                                     25          26          28   \n",
       "precipitation_amt_mm                   151.120000   19.320000   22.270000   \n",
       "reanalysis_max_air_temp_k              300.600000  302.100000  301.800000   \n",
       "reanalysis_precip_amt_kg_per_m2         30.000000   37.510000   43.720000   \n",
       "reanalysis_relative_humidity_percent    83.375714   82.768571   81.467143   \n",
       "reanalysis_sat_precip_amt_mm           151.120000   19.320000   22.270000   \n",
       "reanalysis_specific_humidity_g_per_kg   17.977143   17.790000   17.418571   \n",
       "reanalysis_tdtr_k                        1.571429    1.885714    2.157143   \n",
       "station_avg_temp_c                      28.371429   28.328571   27.557143   \n",
       "station_diur_temp_rng_c                  7.685714    7.385714    7.157143   \n",
       "station_max_temp_c                      33.900000   33.900000   31.700000   \n",
       "station_min_temp_c                      22.800000   22.800000   21.700000   \n",
       "station_precip_mm                       21.100000   21.100000   63.700000   \n",
       "\n",
       "city                                               ...          iq  \\\n",
       "year                                               ...        2010   \n",
       "weekofyear                                     29  ...          17   \n",
       "precipitation_amt_mm                    59.170000  ...   26.000000   \n",
       "reanalysis_max_air_temp_k              302.000000  ...  308.400000   \n",
       "reanalysis_precip_amt_kg_per_m2         40.900000  ...   23.600000   \n",
       "reanalysis_relative_humidity_percent    82.144286  ...   87.657143   \n",
       "reanalysis_sat_precip_amt_mm            59.170000  ...   26.000000   \n",
       "reanalysis_specific_humidity_g_per_kg   17.737143  ...   18.068571   \n",
       "reanalysis_tdtr_k                        2.414286  ...    8.257143   \n",
       "station_avg_temp_c                      28.128571  ...   28.850000   \n",
       "station_diur_temp_rng_c                  6.900000  ...   12.125000   \n",
       "station_max_temp_c                      32.800000  ...   36.200000   \n",
       "station_min_temp_c                      23.900000  ...   21.400000   \n",
       "station_precip_mm                       12.200000  ...   35.400000   \n",
       "\n",
       "city                                                                       \\\n",
       "year                                                                        \n",
       "weekofyear                                     18          19          20   \n",
       "precipitation_amt_mm                    73.970000   59.400000    1.150000   \n",
       "reanalysis_max_air_temp_k              304.700000  306.000000  308.700000   \n",
       "reanalysis_precip_amt_kg_per_m2         85.460000   87.300000    8.800000   \n",
       "reanalysis_relative_humidity_percent    96.712857   97.445714   78.998571   \n",
       "reanalysis_sat_precip_amt_mm            73.970000   59.400000    1.150000   \n",
       "reanalysis_specific_humidity_g_per_kg   18.602857   18.391429   14.908571   \n",
       "reanalysis_tdtr_k                        5.714286    6.185714   11.242857   \n",
       "station_avg_temp_c                      27.600000   27.400000   25.633333   \n",
       "station_diur_temp_rng_c                  9.600000   10.400000    9.200000   \n",
       "station_max_temp_c                      33.200000   33.700000   34.000000   \n",
       "station_min_temp_c                      21.400000   21.200000   20.000000   \n",
       "station_precip_mm                        8.100000   32.000000    2.500000   \n",
       "\n",
       "city                                                                       \\\n",
       "year                                                                        \n",
       "weekofyear                                     21          22          23   \n",
       "precipitation_amt_mm                    55.300000   86.470000   58.940000   \n",
       "reanalysis_max_air_temp_k              309.700000  308.500000  305.500000   \n",
       "reanalysis_precip_amt_kg_per_m2         45.000000  207.100000   50.600000   \n",
       "reanalysis_relative_humidity_percent    88.765714   91.600000   94.280000   \n",
       "reanalysis_sat_precip_amt_mm            55.300000   86.470000   58.940000   \n",
       "reanalysis_specific_humidity_g_per_kg   18.485714   18.070000   17.008571   \n",
       "reanalysis_tdtr_k                        9.800000    7.471429    7.500000   \n",
       "station_avg_temp_c                      28.633333   27.433333   24.400000   \n",
       "station_diur_temp_rng_c                 11.933333   10.500000    6.900000   \n",
       "station_max_temp_c                      35.400000   34.700000   32.200000   \n",
       "station_min_temp_c                      22.400000   21.700000   19.200000   \n",
       "station_precip_mm                       27.000000   36.600000    7.400000   \n",
       "\n",
       "city                                                          dbscan_group  \n",
       "year                                                                        \n",
       "weekofyear                                     24          25               \n",
       "precipitation_amt_mm                    59.670000   63.220000           -1  \n",
       "reanalysis_max_air_temp_k              306.100000  307.800000           -1  \n",
       "reanalysis_precip_amt_kg_per_m2         62.330000   36.900000           -1  \n",
       "reanalysis_relative_humidity_percent    94.660000   89.082857           -1  \n",
       "reanalysis_sat_precip_amt_mm            59.670000   63.220000           -1  \n",
       "reanalysis_specific_humidity_g_per_kg   16.815714   17.355714           -1  \n",
       "reanalysis_tdtr_k                        7.871429   11.014286           -1  \n",
       "station_avg_temp_c                      25.433333   27.475000           -1  \n",
       "station_diur_temp_rng_c                  8.733333    9.900000           -1  \n",
       "station_max_temp_c                      31.200000   33.700000           -1  \n",
       "station_min_temp_c                      21.000000   22.200000           -1  \n",
       "station_precip_mm                       16.000000   20.400000           -1  \n",
       "\n",
       "[12 rows x 1200 columns]"
      ]
     },
     "execution_count": 30,
     "metadata": {},
     "output_type": "execute_result"
    }
   ],
   "source": [
    "df_transpose['dbscan_group'] = labels\n",
    "\n",
    "df_transpose[df_transpose['dbscan_group'] == -1]"
   ]
  },
  {
   "cell_type": "code",
   "execution_count": null,
   "metadata": {},
   "outputs": [],
   "source": [
    "bbb"
   ]
  },
  {
   "cell_type": "code",
   "execution_count": null,
   "metadata": {},
   "outputs": [],
   "source": []
  },
  {
   "cell_type": "code",
   "execution_count": 31,
   "metadata": {},
   "outputs": [
    {
     "data": {
      "image/png": "[encoded data removed]",
      "text/plain": [
       "<Figure size 432x288 with 2 Axes>"
      ]
     },
     "metadata": {},
     "output_type": "display_data"
    }
   ],
   "source": [
    "#Hierarchical Clustering\n",
    "#1. Compute the similarity matrix\n",
    "import sklearn.neighbors\n",
    "dist = sklearn.neighbors.DistanceMetric.get_metric('euclidean')\n",
    "matsim = dist.pairwise(features_norm)\n",
    "\n",
    "#1.1 Visualization\n",
    "import seaborn as sns; sns.set()\n",
    "ax = sns.heatmap(matsim,vmin=0, vmax=1)"
   ]
  },
  {
   "cell_type": "code",
   "execution_count": 32,
   "metadata": {},
   "outputs": [],
   "source": [
    "# parameters\n",
    "init = 'random' # initialization method \n",
    "\n",
    "# to run 10 times with different random centroids \n",
    "# to choose the final model as the one with the lowest SSE\n",
    "iterations = 10\n",
    "\n",
    "# maximum number of iterations for each single run\n",
    "max_iter = 300 \n",
    "\n",
    "# controls the tolerance with regard to the changes in the \n",
    "# within-cluster sum-squared-error to declare convergence\n",
    "\n",
    "tol = 1e-04 \n",
    "\n",
    " # random seed\n",
    "random_state = 0"
   ]
  },
  {
   "cell_type": "code",
   "execution_count": 33,
   "metadata": {},
   "outputs": [],
   "source": [
    "from sklearn.cluster import KMeans\n",
    "from sklearn import metrics\n",
    "\n",
    "distortions = []\n",
    "silhouettes = []\n",
    "\n",
    "for i in range(2, 11):\n",
    "    km = KMeans(i, init, n_init = iterations ,max_iter= max_iter, tol = tol,random_state = random_state)\n",
    "    labels = km.fit_predict(X_pca)\n",
    "    distortions.append(km.inertia_)\n",
    "    silhouettes.append(metrics.silhouette_score(X_pca, labels))"
   ]
  },
  {
   "cell_type": "code",
   "execution_count": 34,
   "metadata": {},
   "outputs": [
    {
     "data": {
      "image/png": "[encoded data removed]",
      "text/plain": [
       "<Figure size 432x288 with 1 Axes>"
      ]
     },
     "metadata": {},
     "output_type": "display_data"
    }
   ],
   "source": [
    "plt.plot(range(2,11), distortions, marker='o')\n",
    "plt.xlabel('K')\n",
    "plt.ylabel('Distortion')\n",
    "plt.show()"
   ]
  },
  {
   "cell_type": "code",
   "execution_count": 35,
   "metadata": {},
   "outputs": [
    {
     "data": {
      "image/png": "[encoded data removed]",
      "text/plain": [
       "<Figure size 432x288 with 1 Axes>"
      ]
     },
     "metadata": {},
     "output_type": "display_data"
    }
   ],
   "source": [
    "plt.plot(range(2,11), silhouettes , marker='o')\n",
    "plt.xlabel('K')\n",
    "plt.ylabel('Silohouette')\n",
    "plt.show()"
   ]
  },
  {
   "cell_type": "markdown",
   "metadata": {},
   "source": [
    "#### Ejecución del Algoritmo\n",
    "\n",
    "Buscamos alto Silhouette y baja distorción.\n",
    "\n",
    "Vamos a seleccionar k = 3 con el fin de ejecutar el clustering."
   ]
  },
  {
   "cell_type": "code",
   "execution_count": 62,
   "metadata": {},
   "outputs": [],
   "source": [
    "k = 3\n",
    "\n",
    "km = KMeans(k, init, n_init = iterations ,\n",
    "            max_iter= max_iter, tol = tol, random_state = random_state)\n",
    "\n",
    "y_km = km.fit_predict(X_pca)"
   ]
  },
  {
   "cell_type": "markdown",
   "metadata": {},
   "source": [
    "Vamos a calcular los valores finales de las métricas del algoritmo."
   ]
  },
  {
   "cell_type": "code",
   "execution_count": 63,
   "metadata": {},
   "outputs": [
    {
     "name": "stdout",
     "output_type": "stream",
     "text": [
      "Silhouette Coefficient: 0.669\n",
      "Distortion: 46.12\n"
     ]
    }
   ],
   "source": [
    "from sklearn import metrics\n",
    "print(\"Silhouette Coefficient: %0.3f\"\n",
    "      % metrics.silhouette_score(features_norm, y_km))\n",
    "      \n",
    "print('Distortion: %.2f' % km.inertia_)"
   ]
  },
  {
   "cell_type": "code",
   "execution_count": 64,
   "metadata": {},
   "outputs": [
    {
     "data": {
      "text/plain": [
       "array([1, 1, 1, 1, 0, 2, 2, 2, 2, 2, 0, 0, 0, 1, 1, 1, 1, 1, 1, 0])"
      ]
     },
     "execution_count": 64,
     "metadata": {},
     "output_type": "execute_result"
    }
   ],
   "source": [
    "labels_kmeans = km.labels_\n",
    "labels_kmeans"
   ]
  },
  {
   "cell_type": "code",
   "execution_count": 65,
   "metadata": {},
   "outputs": [
    {
     "data": {
      "image/png": "[encoded data removed]",
      "text/plain": [
       "<Figure size 432x288 with 1 Axes>"
      ]
     },
     "metadata": {},
     "output_type": "display_data"
    }
   ],
   "source": [
    "#plotting orginal points with color related to label\n",
    "plt.scatter(X_pca[:,0], X_pca[:,1], c=labels_kmeans,s=50)\n",
    "# plotting centroids\n",
    "plt.scatter(km.cluster_centers_[:,0], km.cluster_centers_[:,1], c='blue',s=50)\n",
    "# \n",
    "plt.grid()\n",
    "plt.show()"
   ]
  },
  {
   "cell_type": "markdown",
   "metadata": {},
   "source": [
    "obtenemos los 3 grupos notables"
   ]
  },
  {
   "cell_type": "code",
   "execution_count": null,
   "metadata": {},
   "outputs": [],
   "source": []
  }
 ],
 "metadata": {
  "kernelspec": {
   "display_name": "Python 3",
   "language": "python",
   "name": "python3"
  },
  "language_info": {
   "codemirror_mode": {
    "name": "ipython",
    "version": 3
   },
   "file_extension": ".py",
   "mimetype": "text/x-python",
   "name": "python",
   "nbconvert_exporter": "python",
   "pygments_lexer": "ipython3",
   "version": "3.7.3"
  }
 },
 "nbformat": 4,
 "nbformat_minor": 4
}
